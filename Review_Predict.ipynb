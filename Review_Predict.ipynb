{
 "cells": [
  {
   "cell_type": "code",
   "execution_count": 1,
   "metadata": {},
   "outputs": [
    {
     "name": "stdout",
     "output_type": "stream",
     "text": [
      "1.6.0\n"
     ]
    }
   ],
   "source": [
    "import tensorflow as tf\n",
    "import numpy as np\n",
    "\n",
    "# preprocessed data\n",
    "#from datasets.twitter import data\n",
    "import data\n",
    "import data_utils\n",
    "import os\n",
    "\n",
    "print(tf.__version__)\n",
    "os.environ['CUDA_VISIBLE_DEVICES'] = '-1'"
   ]
  },
  {
   "cell_type": "code",
   "execution_count": 2,
   "metadata": {},
   "outputs": [],
   "source": [
    "metadata, idx_q, idx_a = data.load_data(PATH='')\n",
    "(trainX, trainY), (testX, testY), (validX, validY) = data_utils.split_dataset(idx_q, idx_a)"
   ]
  },
  {
   "cell_type": "code",
   "execution_count": 3,
   "metadata": {},
   "outputs": [
    {
     "name": "stdout",
     "output_type": "stream",
     "text": [
      "40\n",
      "[ 10   2   8  88   4  48   3 410  15 114   6  13   9  71   6  36  67   9\n",
      "  27   3  41   2  17  26   0   0   0   0   0   0   0   0   0   0   0   0\n",
      "   0   0   0   0]\n",
      "40\n",
      "2153\n"
     ]
    }
   ],
   "source": [
    "\n",
    "# parameters \n",
    "xseq_len = trainX.shape[-1]\n",
    "print(xseq_len)\n",
    "print(trainY[1])\n",
    "yseq_len = trainY.shape[-1]\n",
    "print(yseq_len)\n",
    "batch_size = 24\n",
    "xvocab_size = len(metadata['idx2w'])  \n",
    "yvocab_size = xvocab_size\n",
    "emb_dim = 1024\n",
    "print (xvocab_size)\n",
    "import seq2seq_wrapper"
   ]
  },
  {
   "cell_type": "code",
   "execution_count": 4,
   "metadata": {},
   "outputs": [
    {
     "name": "stdout",
     "output_type": "stream",
     "text": [
      "(329, 40)\n",
      "(70, 40)\n",
      "(70, 40)\n"
     ]
    }
   ],
   "source": [
    "print(trainX.shape)\n",
    "print(validX.shape)\n",
    "print(testX.shape)\n"
   ]
  },
  {
   "cell_type": "code",
   "execution_count": 5,
   "metadata": {},
   "outputs": [
    {
     "name": "stdout",
     "output_type": "stream",
     "text": [
      "<log> Building Graph </log>"
     ]
    }
   ],
   "source": [
    "model = seq2seq_wrapper.Seq2Seq(xseq_len=xseq_len,\n",
    "                               yseq_len=yseq_len,\n",
    "                               xvocab_size=xvocab_size,\n",
    "                               yvocab_size=yvocab_size,\n",
    "                               ckpt_path='ckpt/twitter/',\n",
    "                               emb_dim=emb_dim,\n",
    "                               num_layers=3\n",
    "                               )\n"
   ]
  },
  {
   "cell_type": "code",
   "execution_count": 6,
   "metadata": {},
   "outputs": [],
   "source": [
    "val_batch_gen = data_utils.rand_batch_gen(validX, validY, 24)\n",
    "train_batch_gen = data_utils.rand_batch_gen(trainX, trainY, batch_size)"
   ]
  },
  {
   "cell_type": "code",
   "execution_count": null,
   "metadata": {},
   "outputs": [
    {
     "name": "stdout",
     "output_type": "stream",
     "text": [
      "INFO:tensorflow:Restoring parameters from ckpt/twitter/seq2seq_model.ckpt-40\n",
      "\n",
      "<log> Training started </log>\n",
      "\n",
      "Model saved to disk at iteration #10\n",
      "val   loss : 5.197876\n",
      "\n",
      "Model saved to disk at iteration #20\n",
      "val   loss : 4.381861\n",
      "\n",
      "Model saved to disk at iteration #30\n",
      "val   loss : 4.078625\n",
      "\n",
      "Model saved to disk at iteration #40\n",
      "val   loss : 3.977541\n",
      "\n",
      "Model saved to disk at iteration #50\n",
      "val   loss : 4.009060\n",
      "\n",
      "Model saved to disk at iteration #60\n",
      "val   loss : 3.992224\n",
      "\n",
      "Model saved to disk at iteration #70\n",
      "val   loss : 3.957519\n",
      "\n",
      "Model saved to disk at iteration #80\n",
      "val   loss : 3.934952\n",
      "\n",
      "Model saved to disk at iteration #90\n",
      "val   loss : 3.980436\n",
      "\n",
      "Model saved to disk at iteration #100\n",
      "val   loss : 3.943811\n",
      "\n",
      "Model saved to disk at iteration #110\n",
      "val   loss : 3.958645\n",
      "\n",
      "Model saved to disk at iteration #120\n",
      "val   loss : 3.983100\n",
      "\n",
      "Model saved to disk at iteration #130\n",
      "val   loss : 3.847417\n",
      "\n",
      "Model saved to disk at iteration #140\n",
      "val   loss : 3.762195\n",
      "\n",
      "Model saved to disk at iteration #150\n",
      "val   loss : 3.966823\n",
      "\n",
      "Model saved to disk at iteration #160\n",
      "val   loss : 3.929329\n",
      "\n",
      "Model saved to disk at iteration #170\n",
      "val   loss : 3.868466\n",
      "\n",
      "Model saved to disk at iteration #180\n",
      "val   loss : 3.887934\n",
      "\n",
      "Model saved to disk at iteration #190\n",
      "val   loss : 3.793614\n",
      "\n",
      "Model saved to disk at iteration #200\n",
      "val   loss : 3.806081\n",
      "\n",
      "Model saved to disk at iteration #210\n",
      "val   loss : 3.799899\n",
      "\n",
      "Model saved to disk at iteration #220\n",
      "val   loss : 3.721521\n",
      "\n",
      "Model saved to disk at iteration #230\n",
      "val   loss : 3.692606\n",
      "\n",
      "Model saved to disk at iteration #240\n",
      "val   loss : 3.816393\n",
      "\n",
      "Model saved to disk at iteration #250\n",
      "val   loss : 3.629169\n",
      "\n",
      "Model saved to disk at iteration #260\n",
      "val   loss : 3.801875\n"
     ]
    }
   ],
   "source": [
    "#sess = model.restore_last_session()\n",
    "#sess = model.train(train_batch_gen, val_batch_gen)"
   ]
  },
  {
   "cell_type": "code",
   "execution_count": 28,
   "metadata": {},
   "outputs": [],
   "source": [
    "import pickle\n",
    "def idx_2_text(result):\n",
    "    # read data control dictionaries\n",
    "    with open('metadata.pkl', 'rb') as f:\n",
    "        metadata = pickle.load(f)\n",
    "        idx2wd = metadata['idx2w']\n",
    "#        for i in result:\n",
    "            #print(idx2wd[i])\n",
    "    \n",
    "    return idx2wd"
   ]
  },
  {
   "cell_type": "code",
   "execution_count": 33,
   "metadata": {},
   "outputs": [
    {
     "name": "stdout",
     "output_type": "stream",
     "text": [
      "[['location', 'food', 'and', 'staffs', '_', '_', '_', '_', '_', '_', '_', '_', '_', '_', '_', '_', '_', '_', '_', '_', '_', '_', '_', '_', '_', '_', '_', '_', '_', '_', '_', '_', '_', '_', '_', '_', '_', '_', '_', '_'], ['old', 'new', 'orleans', 'feel', 'but', 'didnt', 'lack', 'in', 'amenities', '_', '_', '_', '_', '_', '_', '_', '_', '_', '_', '_', '_', '_', '_', '_', '_', '_', '_', '_', '_', '_', '_', '_', '_', '_', '_', '_', '_', '_', '_', '_'], ['location', 'decor', 'architecture', 'staff', '_', '_', '_', '_', '_', '_', '_', '_', '_', '_', '_', '_', '_', '_', '_', '_', '_', '_', '_', '_', '_', '_', '_', '_', '_', '_', '_', '_', '_', '_', '_', '_', '_', '_', '_', '_'], ['location', 'and', 'reachability', '_', '_', '_', '_', '_', '_', '_', '_', '_', '_', '_', '_', '_', '_', '_', '_', '_', '_', '_', '_', '_', '_', '_', '_', '_', '_', '_', '_', '_', '_', '_', '_', '_', '_', '_', '_', '_'], ['the', 'location', 'the', 'staff', 'attitude', 'and', 'the', 'rooms', 'were', 'all', 'great', '_', '_', '_', '_', '_', '_', '_', '_', '_', '_', '_', '_', '_', '_', '_', '_', '_', '_', '_', '_', '_', '_', '_', '_', '_', '_', '_', '_', '_'], ['location', 'and', 'reachability', '_', '_', '_', '_', '_', '_', '_', '_', '_', '_', '_', '_', '_', '_', '_', '_', '_', '_', '_', '_', '_', '_', '_', '_', '_', '_', '_', '_', '_', '_', '_', '_', '_', '_', '_', '_', '_'], ['location', 'near', 'the', 'zona', 'rosa', 'food', 'cleanliness', 'feel', 'lovely', 'courtyards', 'friendly', 'staff', 'tip', 'for', 'entire', 'staff', 'was', 'conveniently', 'paid', 'at', 'checkout', '_', '_', '_', '_', '_', '_', '_', '_', '_', '_', '_', '_', '_', '_', '_', '_', '_', '_', '_'], ['location', 'design', 'and', 'comfort', '_', '_', '_', '_', '_', '_', '_', '_', '_', '_', '_', '_', '_', '_', '_', '_', '_', '_', '_', '_', '_', '_', '_', '_', '_', '_', '_', '_', '_', '_', '_', '_', '_', '_', '_', '_'], ['the', 'cleanesly', '_', '_', '_', '_', '_', '_', '_', '_', '_', '_', '_', '_', '_', '_', '_', '_', '_', '_', '_', '_', '_', '_', '_', '_', '_', '_', '_', '_', '_', '_', '_', '_', '_', '_', '_', '_', '_', '_'], ['its', 'was', 'clean', 'warm', 'and', 'quiet', '', '_', '_', '_', '_', '_', '_', '_', '_', '_', '_', '_', '_', '_', '_', '_', '_', '_', '_', '_', '_', '_', '_', '_', '_', '_', '_', '_', '_', '_', '_', '_', '_', '_'], ['they', 'left', 'some', 'valentines', 'candy', 'in', 'the', 'room', '', 'nice', 'touch', '_', '_', '_', '_', '_', '_', '_', '_', '_', '_', '_', '_', '_', '_', '_', '_', '_', '_', '_', '_', '_', '_', '_', '_', '_', '_', '_', '_', '_'], ['the', 'staff', 'and', 'the', 'cleanliness', 'of', 'the', 'hotel', 'and', 'rooms', '_', '_', '_', '_', '_', '_', '_', '_', '_', '_', '_', '_', '_', '_', '_', '_', '_', '_', '_', '_', '_', '_', '_', '_', '_', '_', '_', '_', '_', '_'], ['great', 'breakfast', '_', '_', '_', '_', '_', '_', '_', '_', '_', '_', '_', '_', '_', '_', '_', '_', '_', '_', '_', '_', '_', '_', '_', '_', '_', '_', '_', '_', '_', '_', '_', '_', '_', '_', '_', '_', '_', '_'], ['see', 'above', '_', '_', '_', '_', '_', '_', '_', '_', '_', '_', '_', '_', '_', '_', '_', '_', '_', '_', '_', '_', '_', '_', '_', '_', '_', '_', '_', '_', '_', '_', '_', '_', '_', '_', '_', '_', '_', '_'], ['comfortable', '_', '_', '_', '_', '_', '_', '_', '_', '_', '_', '_', '_', '_', '_', '_', '_', '_', '_', '_', '_', '_', '_', '_', '_', '_', '_', '_', '_', '_', '_', '_', '_', '_', '_', '_', '_', '_', '_', '_'], ['everything', '_', '_', '_', '_', '_', '_', '_', '_', '_', '_', '_', '_', '_', '_', '_', '_', '_', '_', '_', '_', '_', '_', '_', '_', '_', '_', '_', '_', '_', '_', '_', '_', '_', '_', '_', '_', '_', '_', '_'], ['value', '_', '_', '_', '_', '_', '_', '_', '_', '_', '_', '_', '_', '_', '_', '_', '_', '_', '_', '_', '_', '_', '_', '_', '_', '_', '_', '_', '_', '_', '_', '_', '_', '_', '_', '_', '_', '_', '_', '_'], ['staff', 'beautiful', 'place', '_', '_', '_', '_', '_', '_', '_', '_', '_', '_', '_', '_', '_', '_', '_', '_', '_', '_', '_', '_', '_', '_', '_', '_', '_', '_', '_', '_', '_', '_', '_', '_', '_', '_', '_', '_', '_'], ['on', 'the', 'water', '', '_', '_', '_', '_', '_', '_', '_', '_', '_', '_', '_', '_', '_', '_', '_', '_', '_', '_', '_', '_', '_', '_', '_', '_', '_', '_', '_', '_', '_', '_', '_', '_', '_', '_', '_', '_'], ['location', '_', '_', '_', '_', '_', '_', '_', '_', '_', '_', '_', '_', '_', '_', '_', '_', '_', '_', '_', '_', '_', '_', '_', '_', '_', '_', '_', '_', '_', '_', '_', '_', '_', '_', '_', '_', '_', '_', '_'], ['i', 'have', 'booked', 'the', 'two', 'single', 'room', '', 'one', 'for', 'my', 'parents', 'and', 'one', 'for', 'my', 'family', '', 'it', 'has', 'been', 'free', 'ungated', 'to', 'two', 'bedroom', 'suits', '', 'so', 'sweet', '_', '_', '_', '_', '_', '_', '_', '_', '_', '_'], ['clean', 'staff', 'friendly', '_', '_', '_', '_', '_', '_', '_', '_', '_', '_', '_', '_', '_', '_', '_', '_', '_', '_', '_', '_', '_', '_', '_', '_', '_', '_', '_', '_', '_', '_', '_', '_', '_', '_', '_', '_', '_'], ['friendliness', 'cleanliness', 'locality', 'ease', 'of', 'driving', 'in', 'and', 'out', 'of', 'the', 'city', '', '_', '_', '_', '_', '_', '_', '_', '_', '_', '_', '_', '_', '_', '_', '_', '_', '_', '_', '_', '_', '_', '_', '_', '_', '_', '_', '_'], ['comfortable', 'rooms', 'wine', 'and', 'cheese', 'bar', 'in', 'the', 'afternoon', 'and', 'great', 'breakfasts', 'delivered', 'to', 'the', 'room', '', 'professional', 'staff', '_', '_', '_', '_', '_', '_', '_', '_', '_', '_', '_', '_', '_', '_', '_', '_', '_', '_', '_', '_', '_'], ['good', 'value', 'for', 'money', '_', '_', '_', '_', '_', '_', '_', '_', '_', '_', '_', '_', '_', '_', '_', '_', '_', '_', '_', '_', '_', '_', '_', '_', '_', '_', '_', '_', '_', '_', '_', '_', '_', '_', '_', '_'], ['great', 'location', 'beautiful', 'hotel', '_', '_', '_', '_', '_', '_', '_', '_', '_', '_', '_', '_', '_', '_', '_', '_', '_', '_', '_', '_', '_', '_', '_', '_', '_', '_', '_', '_', '_', '_', '_', '_', '_', '_', '_', '_'], ['clean', 'and', 'modern', '_', '_', '_', '_', '_', '_', '_', '_', '_', '_', '_', '_', '_', '_', '_', '_', '_', '_', '_', '_', '_', '_', '_', '_', '_', '_', '_', '_', '_', '_', '_', '_', '_', '_', '_', '_', '_'], ['everything', '_', '_', '_', '_', '_', '_', '_', '_', '_', '_', '_', '_', '_', '_', '_', '_', '_', '_', '_', '_', '_', '_', '_', '_', '_', '_', '_', '_', '_', '_', '_', '_', '_', '_', '_', '_', '_', '_', '_'], ['loved', 'window', 'seats', 'great', 'beds', '', 'linens', 'quiet', '_', '_', '_', '_', '_', '_', '_', '_', '_', '_', '_', '_', '_', '_', '_', '_', '_', '_', '_', '_', '_', '_', '_', '_', '_', '_', '_', '_', '_', '_', '_', '_'], ['see', 'above', '_', '_', '_', '_', '_', '_', '_', '_', '_', '_', '_', '_', '_', '_', '_', '_', '_', '_', '_', '_', '_', '_', '_', '_', '_', '_', '_', '_', '_', '_', '_', '_', '_', '_', '_', '_', '_', '_'], ['very', 'quiet', 'spacious', 'rooms', 'comfy', 'beds', '_', '_', '_', '_', '_', '_', '_', '_', '_', '_', '_', '_', '_', '_', '_', '_', '_', '_', '_', '_', '_', '_', '_', '_', '_', '_', '_', '_', '_', '_', '_', '_', '_', '_'], ['close', 'to', 'where', 'we', 'needed', 'to', 'be', 'and', 'price', 'was', 'right', '', '_', '_', '_', '_', '_', '_', '_', '_', '_', '_', '_', '_', '_', '_', '_', '_', '_', '_', '_', '_', '_', '_', '_', '_', '_', '_', '_', '_'], ['staff', 'was', 'friendly', 'and', 'well', 'informed', '_', '_', '_', '_', '_', '_', '_', '_', '_', '_', '_', '_', '_', '_', '_', '_', '_', '_', '_', '_', '_', '_', '_', '_', '_', '_', '_', '_', '_', '_', '_', '_', '_', '_'], ['great', 'location', 'great', 'amenities', '_', '_', '_', '_', '_', '_', '_', '_', '_', '_', '_', '_', '_', '_', '_', '_', '_', '_', '_', '_', '_', '_', '_', '_', '_', '_', '_', '_', '_', '_', '_', '_', '_', '_', '_', '_'], ['it', 'was', 'lovely', '_', '_', '_', '_', '_', '_', '_', '_', '_', '_', '_', '_', '_', '_', '_', '_', '_', '_', '_', '_', '_', '_', '_', '_', '_', '_', '_', '_', '_', '_', '_', '_', '_', '_', '_', '_', '_'], ['clean', 'comfortable', 'beds', 'decent', 'breakfast', 'friendly', 'staff', '_', '_', '_', '_', '_', '_', '_', '_', '_', '_', '_', '_', '_', '_', '_', '_', '_', '_', '_', '_', '_', '_', '_', '_', '_', '_', '_', '_', '_', '_', '_', '_', '_'], ['staff', '_', '_', '_', '_', '_', '_', '_', '_', '_', '_', '_', '_', '_', '_', '_', '_', '_', '_', '_', '_', '_', '_', '_', '_', '_', '_', '_', '_', '_', '_', '_', '_', '_', '_', '_', '_', '_', '_', '_'], ['location', 'service', 'food', 'comfort', 'history', '_', '_', '_', '_', '_', '_', '_', '_', '_', '_', '_', '_', '_', '_', '_', '_', '_', '_', '_', '_', '_', '_', '_', '_', '_', '_', '_', '_', '_', '_', '_', '_', '_', '_', '_'], ['location', 'cleanliness', 'location', 'for', 'breakfast', '', '_', '_', '_', '_', '_', '_', '_', '_', '_', '_', '_', '_', '_', '_', '_', '_', '_', '_', '_', '_', '_', '_', '_', '_', '_', '_', '_', '_', '_', '_', '_', '_', '_', '_'], ['how', 'clean', 'every', 'thing', 'was', '_', '_', '_', '_', '_', '_', '_', '_', '_', '_', '_', '_', '_', '_', '_', '_', '_', '_', '_', '_', '_', '_', '_', '_', '_', '_', '_', '_', '_', '_', '_', '_', '_', '_', '_'], ['location', 'location', 'location', '_', '_', '_', '_', '_', '_', '_', '_', '_', '_', '_', '_', '_', '_', '_', '_', '_', '_', '_', '_', '_', '_', '_', '_', '_', '_', '_', '_', '_', '_', '_', '_', '_', '_', '_', '_', '_'], ['the', 'fish', 'tank', '_', '_', '_', '_', '_', '_', '_', '_', '_', '_', '_', '_', '_', '_', '_', '_', '_', '_', '_', '_', '_', '_', '_', '_', '_', '_', '_', '_', '_', '_', '_', '_', '_', '_', '_', '_', '_'], ['location', 'service', 'great', 'place', '_', '_', '_', '_', '_', '_', '_', '_', '_', '_', '_', '_', '_', '_', '_', '_', '_', '_', '_', '_', '_', '_', '_', '_', '_', '_', '_', '_', '_', '_', '_', '_', '_', '_', '_', '_'], ['friendly', 'and', 'service', 'oriented', 'personnelconcierge', 'reception', 'dining', 'room', '', '', '', 'coffee', 'to', 'order', '_', '_', '_', '_', '_', '_', '_', '_', '_', '_', '_', '_', '_', '_', '_', '_', '_', '_', '_', '_', '_', '_', '_', '_', '_', '_'], ['restaurant', 'and', 'location', 'great', 'spot', 'for', 'spring', 'baseball', 'mlb', 'and', 'college', 'games', 'all', 'very', 'close', '', '_', '_', '_', '_', '_', '_', '_', '_', '_', '_', '_', '_', '_', '_', '_', '_', '_', '_', '_', '_', '_', '_', '_', '_'], ['24', 'hour', 'poolhot', 'tub', '_', '_', '_', '_', '_', '_', '_', '_', '_', '_', '_', '_', '_', '_', '_', '_', '_', '_', '_', '_', '_', '_', '_', '_', '_', '_', '_', '_', '_', '_', '_', '_', '_', '_', '_', '_'], ['very', 'friendly', 'staffquick', 'servicefood', 'is', 'so', 'goodwe', 'asked', 'for', 'the', 'vegfood', 'and', 'they', 'specially', 'cooked', 'two', 'vegdishes', 'for', 'usthanks', 'to', 'chef', '_', '_', '_', '_', '_', '_', '_', '_', '_', '_', '_', '_', '_', '_', '_', '_', '_', '_', '_'], ['grounds', 'and', 'size', 'of', 'the', 'rooms', '_', '_', '_', '_', '_', '_', '_', '_', '_', '_', '_', '_', '_', '_', '_', '_', '_', '_', '_', '_', '_', '_', '_', '_', '_', '_', '_', '_', '_', '_', '_', '_', '_', '_'], ['setting', 'facilities', 'staff', '_', '_', '_', '_', '_', '_', '_', '_', '_', '_', '_', '_', '_', '_', '_', '_', '_', '_', '_', '_', '_', '_', '_', '_', '_', '_', '_', '_', '_', '_', '_', '_', '_', '_', '_', '_', '_'], ['the', 'private', 'pool', 'was', 'great', '', 'i', 'took', 'a', 'quick', 'dip', 'every', 'evening', 'before', 'jumping', 'in', 'bed', '_', '_', '_', '_', '_', '_', '_', '_', '_', '_', '_', '_', '_', '_', '_', '_', '_', '_', '_', '_', '_', '_', '_'], ['friendly', 'staff', 'location', 'comfortable', 'rooms', 'style', 'of', 'hotel', 'and', 'the', 'aquadom', '', '_', '_', '_', '_', '_', '_', '_', '_', '_', '_', '_', '_', '_', '_', '_', '_', '_', '_', '_', '_', '_', '_', '_', '_', '_', '_', '_', '_'], ['staff', 'and', 'service', '_', '_', '_', '_', '_', '_', '_', '_', '_', '_', '_', '_', '_', '_', '_', '_', '_', '_', '_', '_', '_', '_', '_', '_', '_', '_', '_', '_', '_', '_', '_', '_', '_', '_', '_', '_', '_'], ['great', 'service', 'accessible', 'and', 'central', 'location', 'clean', 'rooms', 'and', 'very', 'good', 'breakfast', '', '_', '_', '_', '_', '_', '_', '_', '_', '_', '_', '_', '_', '_', '_', '_', '_', '_', '_', '_', '_', '_', '_', '_', '_', '_', '_', '_'], ['the', 'apartment', 'was', 'sparkling', 'and', 'all', 'the', 'facilities', 'were', 'functional', '_', '_', '_', '_', '_', '_', '_', '_', '_', '_', '_', '_', '_', '_', '_', '_', '_', '_', '_', '_', '_', '_', '_', '_', '_', '_', '_', '_', '_', '_'], ['housekeeping', '', 'very', 'clean', 'room', 'daily', 'and', 'convenient', 'tuk', 'tuk', 'service', '_', '_', '_', '_', '_', '_', '_', '_', '_', '_', '_', '_', '_', '_', '_', '_', '_', '_', '_', '_', '_', '_', '_', '_', '_', '_', '_', '_', '_'], ['clean', 'relaxing', '_', '_', '_', '_', '_', '_', '_', '_', '_', '_', '_', '_', '_', '_', '_', '_', '_', '_', '_', '_', '_', '_', '_', '_', '_', '_', '_', '_', '_', '_', '_', '_', '_', '_', '_', '_', '_', '_'], ['the', 'staff', 'were', 'amazing', 'could', 'not', 'be', 'more', 'helpful', 'and', 'always', 'greeted', 'us', 'with', 'a', 'smile', 'day', 'or', 'night', 'the', 'rooms', 'are', 'clean', 'are', 'comfortable', '_', '_', '_', '_', '_', '_', '_', '_', '_', '_', '_', '_', '_', '_', '_'], ['very', 'nice', 'in', 'every', 'aspect', '_', '_', '_', '_', '_', '_', '_', '_', '_', '_', '_', '_', '_', '_', '_', '_', '_', '_', '_', '_', '_', '_', '_', '_', '_', '_', '_', '_', '_', '_', '_', '_', '_', '_', '_'], ['location', 'and', 'quiet', 'rooms', 'give', 'a', 'great', 'respite', 'from', 'the', 'city', '_', '_', '_', '_', '_', '_', '_', '_', '_', '_', '_', '_', '_', '_', '_', '_', '_', '_', '_', '_', '_', '_', '_', '_', '_', '_', '_', '_', '_'], ['amazing', 'decor', 'so', 'well', 'preserved', '_', '_', '_', '_', '_', '_', '_', '_', '_', '_', '_', '_', '_', '_', '_', '_', '_', '_', '_', '_', '_', '_', '_', '_', '_', '_', '_', '_', '_', '_', '_', '_', '_', '_', '_'], ['top', 'level', 'rooms', 'and', 'service', 'great', 'location', '', '_', '_', '_', '_', '_', '_', '_', '_', '_', '_', '_', '_', '_', '_', '_', '_', '_', '_', '_', '_', '_', '_', '_', '_', '_', '_', '_', '_', '_', '_', '_', '_'], ['location', '', '_', '_', '_', '_', '_', '_', '_', '_', '_', '_', '_', '_', '_', '_', '_', '_', '_', '_', '_', '_', '_', '_', '_', '_', '_', '_', '_', '_', '_', '_', '_', '_', '_', '_', '_', '_', '_', '_'], ['amazing', 'decor', 'so', 'well', 'preserved', '_', '_', '_', '_', '_', '_', '_', '_', '_', '_', '_', '_', '_', '_', '_', '_', '_', '_', '_', '_', '_', '_', '_', '_', '_', '_', '_', '_', '_', '_', '_', '_', '_', '_', '_'], ['everything', 'was', 'great', '_', '_', '_', '_', '_', '_', '_', '_', '_', '_', '_', '_', '_', '_', '_', '_', '_', '_', '_', '_', '_', '_', '_', '_', '_', '_', '_', '_', '_', '_', '_', '_', '_', '_', '_', '_', '_'], ['as', 'above', '_', '_', '_', '_', '_', '_', '_', '_', '_', '_', '_', '_', '_', '_', '_', '_', '_', '_', '_', '_', '_', '_', '_', '_', '_', '_', '_', '_', '_', '_', '_', '_', '_', '_', '_', '_', '_', '_'], ['great', 'room', 'central', 'location', 'and', 'great', 'staff', '_', '_', '_', '_', '_', '_', '_', '_', '_', '_', '_', '_', '_', '_', '_', '_', '_', '_', '_', '_', '_', '_', '_', '_', '_', '_', '_', '_', '_', '_', '_', '_', '_'], ['the', 'villas', 'are', 'very', 'cozy', '_', '_', '_', '_', '_', '_', '_', '_', '_', '_', '_', '_', '_', '_', '_', '_', '_', '_', '_', '_', '_', '_', '_', '_', '_', '_', '_', '_', '_', '_', '_', '_', '_', '_', '_'], ['location', 'friendly', 'staff', '_', '_', '_', '_', '_', '_', '_', '_', '_', '_', '_', '_', '_', '_', '_', '_', '_', '_', '_', '_', '_', '_', '_', '_', '_', '_', '_', '_', '_', '_', '_', '_', '_', '_', '_', '_', '_'], ['beautiful', 'hotel', '_', '_', '_', '_', '_', '_', '_', '_', '_', '_', '_', '_', '_', '_', '_', '_', '_', '_', '_', '_', '_', '_', '_', '_', '_', '_', '_', '_', '_', '_', '_', '_', '_', '_', '_', '_', '_', '_'], ['very', 'clean', 'bed', 'super', 'comfortable', 'and', 'room', 'was', 'quiet', '_', '_', '_', '_', '_', '_', '_', '_', '_', '_', '_', '_', '_', '_', '_', '_', '_', '_', '_', '_', '_', '_', '_', '_', '_', '_', '_', '_', '_', '_', '_'], []]\n"
     ]
    }
   ],
   "source": [
    "i=0\n",
    "j=0\n",
    "k=0\n",
    "rev_all = [[]]\n",
    "idx2word = idx_2_text(k)\n",
    "for review in validX:\n",
    "#    print(reply)\n",
    "    rev_all.append([])\n",
    "    for k in review:\n",
    "        #print(k, idx2word[k])\n",
    "        rev_all[j].append(idx2word[k])\n",
    "    #print(rep_all)\n",
    "    j = j+1\n",
    "#    i= i+1\n",
    "    \n",
    "print(rev_all)"
   ]
  },
  {
   "cell_type": "code",
   "execution_count": 52,
   "metadata": {},
   "outputs": [
    {
     "name": "stdout",
     "output_type": "stream",
     "text": [
      "INFO:tensorflow:Restoring parameters from ckpt/twitter/seq2seq_model.ckpt-990\n",
      "[[  32  110    7 ...    0    0    0]\n",
      " [ 298  187 1076 ...    0    0    0]\n",
      " [  32  354  720 ...    0    0    0]\n",
      " ...\n",
      " [  32   56   21 ...    0    0    0]\n",
      " [ 152   23    0 ...    0    0    0]\n",
      " [  14   60   84 ...    0    0    0]]\n"
     ]
    }
   ],
   "source": [
    "sess = model.restore_last_session()\n",
    "print(validX)"
   ]
  },
  {
   "cell_type": "code",
   "execution_count": 53,
   "metadata": {},
   "outputs": [
    {
     "name": "stdout",
     "output_type": "stream",
     "text": [
      "[[   0    0    0 ... 1979 1979 1979]\n",
      " [   2    2    0 ...    0    0    0]\n",
      " [   6    0    0 ...    0    0    0]\n",
      " ...\n",
      " [  11   10   10 ...    0    0    0]\n",
      " [  11   10   10 ...    0    0    0]\n",
      " [  11   10   10 ...    0    0    0]]\n"
     ]
    }
   ],
   "source": [
    "res_idx = model.predict(sess, validX)\n",
    "print(res_idx)"
   ]
  },
  {
   "cell_type": "code",
   "execution_count": 54,
   "metadata": {},
   "outputs": [
    {
     "name": "stdout",
     "output_type": "stream",
     "text": [
      "[['_', '_', '_', 'coordinator', 'request', 'request', 'request', 'request', 'request', 'request', 'request', 'sounds', 'sounds', 'sounds', 'sounds', 'edinburgh', 'edinburgh', 'edinburgh', 'edinburgh', 'edinburgh', 'edinburgh', 'edinburgh', 'edinburgh', 'edinburgh', 'edinburgh', 'edinburgh', 'edinburgh', 'edinburgh', 'edinburgh', 'edinburgh', 'requested', 'requested', 'anonymous', 'anonymous', 'anonymous', 'anonymous', 'anonymous', 'anonymous', 'anonymous', 'anonymous'], ['you', 'you', '_', '_', '_', '_', '_', '_', '_', '_', '_', '_', '_', '_', '_', '_', '_', '_', '_', '_', '_', '_', '_', '_', '_', '_', '_', '_', '_', '_', '_', '_', '_', '_', '_', '_', '_', '_', '_', '_'], ['your', '_', '_', '_', '_', '_', '_', '_', '_', '_', '_', '_', '_', '_', '_', '_', '_', '_', '_', '_', '_', '_', '_', '_', '_', '_', '_', '_', '_', '_', '_', '_', '_', '_', '_', '_', '_', '_', '_', '_'], ['you', 'you', 'your', 'your', '_', '_', '_', '_', '_', '_', '_', '_', '_', '_', '_', '_', '_', '_', '_', '_', '_', '_', '_', '_', '_', '_', '_', '_', '_', '_', '_', '_', '_', '_', '_', '_', '_', '_', '_', '_'], ['you', 'your', 'your', '_', '_', '_', '_', '_', '_', '_', '_', '_', '_', '_', '_', '_', '_', '_', '_', '_', '_', '_', '_', '_', '_', '_', '_', '_', '_', '_', '_', '_', '_', '_', '_', '_', '_', '_', '_', '_'], ['thank', 'you', 'for', 'for', 'your', 'your', 'review', 'review', 'we', 'we', 'you', 'you', 'you', 'you', 'to', 'to', 'to', 'to', 'to', 'to', 'to', 'to', 'to', 'to', 'you', 'you', 'you', 'the', 'the', 'kind', 'regards', 'regards', 'regards', '_', '_', '_', '_', '_', '_', '_'], ['thank', 'you', 'for', 'for', 'your', 'review', 'we', 'to', 'to', 'you', 'you', 'to', 'to', 'to', 'to', 'to', 'to', 'to', 'to', 'to', 'to', 'to', 'to', 'to', 'you', 'the', 'the', 'the', 'kind', 'kind', 'regards', 'regards', 'regards', '_', '_', '_', '_', '_', '_', '_'], ['thank', 'you', 'for', 'for', 'your', 'your', 'review', 'we', 'we', 'to', 'you', 'you', 'to', 'to', 'to', 'to', 'to', 'to', 'to', 'to', 'to', 'to', 'to', 'to', 'you', 'you', 'the', 'the', 'kind', 'kind', 'regards', 'regards', 'regards', '_', '_', '_', '_', '_', '_', '_'], ['dear', 'thank', 'you', 'you', 'for', 'your', 'your', 'review', 'we', 'we', 'we', 'to', 'you', 'you', 'to', 'to', 'to', 'to', 'to', 'to', 'to', 'to', 'to', 'to', 'you', 'you', 'you', 'the', 'the', 'kind', 'regards', 'regards', 'regards', '_', '_', '_', '_', '_', '_', '_'], ['thank', 'you', 'you', 'for', 'your', 'your', 'review', 'we', 'to', 'to', 'to', 'to', 'to', 'to', 'to', 'to', 'to', 'to', 'to', 'to', 'to', 'to', 'to', 'to', 'you', 'the', 'the', 'the', 'kind', 'kind', 'regards', 'regards', 'regards', '_', '_', '_', '_', '_', '_', '_'], ['thank', 'you', 'for', 'for', 'your', 'review', 'review', 'we', 'to', 'you', 'you', 'you', 'we', 'to', 'to', 'to', 'to', 'to', 'to', 'to', 'to', 'to', 'to', 'to', 'you', 'you', 'the', 'the', 'the', 'kind', 'regards', 'regards', 'regards', '_', '_', '_', '_', '_', '_', '_'], ['dear', 'thank', 'you', 'you', 'for', 'your', 'review', 'review', 'we', 'we', 'to', 'you', 'you', 'to', 'to', 'to', 'to', 'to', 'to', 'to', 'to', 'to', 'to', 'to', 'you', 'you', 'you', 'the', 'the', 'kind', 'regards', 'regards', 'regards', '_', '_', '_', '_', '_', '_', '_'], ['dear', 'thank', 'thank', 'you', 'for', 'your', 'your', 'review', 'we', 'we', 'to', 'to', 'to', 'to', 'to', 'to', 'to', 'to', 'to', 'to', 'to', 'to', 'to', 'to', 'to', 'you', 'you', 'you', 'the', 'the', 'regards', 'regards', 'regards', '_', '_', '_', '_', '_', '_', '_'], ['dear', 'thank', 'thank', 'you', 'for', 'your', 'your', 'review', 'we', 'we', 'to', 'to', 'to', 'to', 'to', 'to', 'to', 'to', 'to', 'to', 'to', 'to', 'to', 'to', 'to', 'you', 'you', 'the', 'the', 'the', 'kind', 'regards', 'regards', 'regards', '_', '_', '_', '_', '_', '_'], ['dear', 'thank', 'thank', 'you', 'for', 'your', 'your', 'review', 'we', 'we', 'to', 'to', 'to', 'to', 'to', 'to', 'to', 'to', 'to', 'to', 'to', 'to', 'to', 'to', 'to', 'you', 'you', 'the', 'the', 'kind', 'kind', 'regards', 'regards', '_', '_', '_', '_', '_', '_', '_'], ['dear', 'thank', 'thank', 'you', 'for', 'your', 'your', 'review', 'we', 'we', 'to', 'to', 'to', 'to', 'to', 'to', 'to', 'to', 'to', 'to', 'to', 'to', 'to', 'to', 'to', 'you', 'you', 'the', 'the', 'the', 'kind', 'regards', 'regards', 'regards', '_', '_', '_', '_', '_', '_'], ['dear', 'thank', 'thank', 'you', 'for', 'for', 'your', 'review', 'review', 'we', 'we', 'you', 'you', 'you', 'to', 'to', 'to', 'to', 'to', 'to', 'to', 'to', 'to', 'to', 'to', 'you', 'you', 'you', 'the', 'the', 'kind', 'regards', 'regards', 'regards', '_', '_', '_', '_', '_', '_'], ['dear', 'thank', 'thank', 'you', 'for', 'for', 'your', 'review', 'review', 'we', 'we', 'you', 'you', 'you', 'to', 'to', 'to', 'to', 'to', 'to', 'to', 'to', 'to', 'to', 'to', 'you', 'you', 'you', 'the', 'the', 'kind', 'regards', 'regards', 'regards', '_', '_', '_', '_', '_', '_'], ['dear', 'thank', 'thank', 'you', 'for', 'your', 'your', 'review', 'we', 'we', 'to', 'to', 'to', 'to', 'to', 'to', 'to', 'to', 'to', 'to', 'to', 'to', 'to', 'to', 'to', 'you', 'you', 'the', 'the', 'the', 'kind', 'regards', 'regards', 'regards', '_', '_', '_', '_', '_', '_'], ['dear', 'thank', 'thank', 'you', 'for', 'for', 'your', 'review', 'review', 'we', 'we', 'you', 'you', 'you', 'to', 'to', 'to', 'to', 'to', 'to', 'to', 'to', 'to', 'to', 'to', 'you', 'you', 'you', 'the', 'the', 'kind', 'regards', 'regards', 'regards', '_', '_', '_', '_', '_', '_'], ['dear', 'thank', 'you', 'you', 'for', 'your', 'review', 'review', 'we', 'we', 'you', 'you', 'you', 'to', 'to', 'to', 'to', 'to', 'to', 'to', 'to', 'to', 'to', 'to', 'you', 'you', 'the', 'the', 'the', 'kind', 'regards', 'regards', 'regards', '_', '_', '_', '_', '_', '_', '_'], ['dear', 'thank', 'thank', 'you', 'for', 'your', 'your', 'review', 'we', 'we', 'to', 'to', 'to', 'to', 'to', 'to', 'to', 'to', 'to', 'to', 'to', 'to', 'to', 'to', 'to', 'you', 'you', 'the', 'the', 'kind', 'kind', 'regards', 'regards', '_', '_', '_', '_', '_', '_', '_'], ['dear', 'thank', 'thank', 'you', 'for', 'your', 'your', 'review', 'we', 'we', 'to', 'to', 'to', 'to', 'to', 'to', 'to', 'to', 'to', 'to', 'to', 'to', 'to', 'to', 'to', 'you', 'you', 'the', 'the', 'kind', 'kind', 'regards', 'regards', '_', '_', '_', '_', '_', '_', '_'], ['dear', 'thank', 'thank', 'you', 'for', 'your', 'your', 'review', 'we', 'we', 'to', 'to', 'to', 'to', 'to', 'to', 'to', 'to', 'to', 'to', 'to', 'to', 'to', 'to', 'to', 'you', 'you', 'the', 'the', 'the', 'kind', 'regards', 'regards', 'regards', '_', '_', '_', '_', '_', '_'], ['dear', 'thank', 'thank', 'you', 'for', 'your', 'your', 'review', 'we', 'we', 'to', 'to', 'to', 'to', 'to', 'to', 'to', 'to', 'to', 'to', 'to', 'to', 'to', 'to', 'to', 'you', 'you', 'the', 'the', 'the', 'kind', 'regards', 'regards', 'regards', '_', '_', '_', '_', '_', '_'], ['dear', 'thank', 'thank', 'you', 'for', 'your', 'your', 'review', 'we', 'we', 'to', 'to', 'to', 'to', 'to', 'to', 'to', 'to', 'to', 'to', 'to', 'to', 'to', 'to', 'to', 'you', 'you', 'the', 'the', 'kind', 'kind', 'regards', 'regards', '_', '_', '_', '_', '_', '_', '_'], ['dear', 'thank', 'thank', 'you', 'for', 'your', 'your', 'review', 'we', 'we', 'to', 'to', 'to', 'to', 'to', 'to', 'to', 'to', 'to', 'to', 'to', 'to', 'to', 'to', 'to', 'you', 'you', 'the', 'the', 'kind', 'kind', 'regards', 'regards', '_', '_', '_', '_', '_', '_', '_'], ['dear', 'dear', 'thank', 'thank', 'you', 'for', 'for', 'your', 'review', 'review', 'we', 'we', 'you', 'you', 'you', 'you', 'we', 'to', 'to', 'to', 'to', 'to', 'to', 'to', 'to', 'to', 'you', 'you', 'you', 'you', 'the', 'regards', 'regards', 'regards', '_', '_', '_', '_', '_', '_'], ['dear', 'thank', 'thank', 'you', 'for', 'your', 'review', 'review', 'we', 'we', 'to', 'you', 'you', 'to', 'to', 'to', 'to', 'to', 'to', 'to', 'to', 'to', 'to', 'to', 'you', 'you', 'you', 'the', 'the', 'kind', 'regards', 'regards', 'regards', '_', '_', '_', '_', '_', '_', '_'], ['dear', 'dear', 'thank', 'thank', 'you', 'for', 'for', 'your', 'review', 'review', 'we', 'we', 'you', 'you', 'you', 'you', 'we', 'to', 'to', 'to', 'to', 'to', 'to', 'to', 'to', 'to', 'you', 'you', 'you', 'you', 'the', 'regards', 'regards', 'regards', '_', '_', '_', '_', '_', '_'], ['dear', 'thank', 'thank', 'you', 'for', 'your', 'your', 'review', 'we', 'we', 'to', 'to', 'to', 'to', 'to', 'to', 'to', 'to', 'to', 'to', 'to', 'to', 'to', 'to', 'to', 'you', 'you', 'the', 'the', 'kind', 'kind', 'regards', 'regards', '_', '_', '_', '_', '_', '_', '_'], ['dear', 'thank', 'thank', 'you', 'for', 'your', 'your', 'review', 'we', 'we', 'to', 'to', 'to', 'to', 'to', 'to', 'to', 'to', 'to', 'to', 'to', 'to', 'to', 'to', 'to', 'you', 'you', 'the', 'the', 'kind', 'kind', 'regards', 'regards', '_', '_', '_', '_', '_', '_', '_'], ['dear', 'thank', 'thank', 'you', 'for', 'your', 'your', 'review', 'we', 'we', 'to', 'to', 'to', 'to', 'to', 'to', 'to', 'to', 'to', 'to', 'to', 'to', 'to', 'to', 'to', 'you', 'you', 'the', 'the', 'kind', 'kind', 'regards', 'regards', '_', '_', '_', '_', '_', '_', '_'], ['dear', 'thank', 'thank', 'you', 'for', 'your', 'your', 'review', 'we', 'we', 'to', 'to', 'to', 'to', 'to', 'to', 'to', 'to', 'to', 'to', 'to', 'to', 'to', 'to', 'to', 'you', 'you', 'the', 'the', 'kind', 'kind', 'regards', 'regards', '_', '_', '_', '_', '_', '_', '_'], ['dear', 'thank', 'thank', 'you', 'for', 'your', 'your', 'review', 'we', 'we', 'to', 'to', 'to', 'to', 'to', 'to', 'to', 'to', 'to', 'to', 'to', 'to', 'to', 'to', 'to', 'you', 'you', 'the', 'the', 'kind', 'kind', 'regards', 'regards', '_', '_', '_', '_', '_', '_', '_'], ['dear', 'thank', 'thank', 'you', 'for', 'your', 'your', 'review', 'we', 'we', 'to', 'to', 'to', 'to', 'to', 'to', 'to', 'to', 'to', 'to', 'to', 'to', 'to', 'to', 'to', 'you', 'you', 'the', 'the', 'kind', 'kind', 'regards', 'regards', '_', '_', '_', '_', '_', '_', '_'], ['dear', 'thank', 'thank', 'you', 'for', 'your', 'your', 'review', 'we', 'we', 'to', 'to', 'to', 'to', 'to', 'to', 'to', 'to', 'to', 'to', 'to', 'to', 'to', 'to', 'to', 'you', 'you', 'the', 'the', 'kind', 'kind', 'regards', 'regards', '_', '_', '_', '_', '_', '_', '_'], ['dear', 'thank', 'thank', 'you', 'for', 'your', 'your', 'review', 'we', 'we', 'to', 'to', 'to', 'to', 'to', 'to', 'to', 'to', 'to', 'to', 'to', 'to', 'to', 'to', 'to', 'you', 'you', 'the', 'the', 'kind', 'kind', 'regards', 'regards', '_', '_', '_', '_', '_', '_', '_'], ['dear', 'thank', 'thank', 'you', 'for', 'your', 'your', 'review', 'we', 'we', 'to', 'to', 'to', 'to', 'to', 'to', 'to', 'to', 'to', 'to', 'to', 'to', 'to', 'to', 'to', 'you', 'you', 'the', 'the', 'kind', 'kind', 'regards', 'regards', '_', '_', '_', '_', '_', '_', '_'], ['dear', 'thank', 'thank', 'you', 'for', 'your', 'your', 'review', 'we', 'we', 'to', 'to', 'to', 'to', 'to', 'to', 'to', 'to', 'to', 'to', 'to', 'to', 'to', 'to', 'to', 'you', 'you', 'the', 'the', 'kind', 'kind', 'regards', 'regards', '_', '_', '_', '_', '_', '_', '_'], []]\n"
     ]
    }
   ],
   "source": [
    "i=0\n",
    "j=0\n",
    "k=0\n",
    "rep_all = [[]]\n",
    "idx2word = idx_2_text(k)\n",
    "for reply in res_idx:\n",
    "#    print(reply)\n",
    "    rep_all.append([])\n",
    "    for k in reply:\n",
    "        #print(k, idx2word[k])\n",
    "        rep_all[j].append(idx2word[k])\n",
    "    #print(rep_all)\n",
    "    j = j+1\n",
    "#    i= i+1\n",
    "    \n",
    "print(rep_all)"
   ]
  },
  {
   "cell_type": "code",
   "execution_count": null,
   "metadata": {},
   "outputs": [],
   "source": []
  }
 ],
 "metadata": {
  "kernelspec": {
   "display_name": "Python 3",
   "language": "python",
   "name": "python3"
  },
  "language_info": {
   "codemirror_mode": {
    "name": "ipython",
    "version": 3
   },
   "file_extension": ".py",
   "mimetype": "text/x-python",
   "name": "python",
   "nbconvert_exporter": "python",
   "pygments_lexer": "ipython3",
   "version": "3.5.5"
  }
 },
 "nbformat": 4,
 "nbformat_minor": 2
}
